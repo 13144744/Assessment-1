{
  "nbformat": 4,
  "nbformat_minor": 0,
  "metadata": {
    "kernelspec": {
      "display_name": "Python 3",
      "language": "python",
      "name": "python3"
    },
    "language_info": {
      "codemirror_mode": {
        "name": "ipython",
        "version": 3
      },
      "file_extension": ".py",
      "mimetype": "text/x-python",
      "name": "python",
      "nbconvert_exporter": "python",
      "pygments_lexer": "ipython3",
      "version": "3.5.4"
    },
    "toc": {
      "base_numbering": 1,
      "nav_menu": {},
      "number_sections": true,
      "sideBar": true,
      "skip_h1_title": false,
      "title_cell": "Table of Contents",
      "title_sidebar": "Contents",
      "toc_cell": false,
      "toc_position": {},
      "toc_section_display": true,
      "toc_window_display": false
    },
    "colab": {
      "name": "“A1_Report(Haotian Liu 13144744).ipynb”",
      "version": "0.3.2",
      "provenance": [],
      "collapsed_sections": [
        "iWbY0gzDTs8h"
      ]
    }
  },
  "cells": [
    {
      "cell_type": "markdown",
      "metadata": {
        "id": "hHXaOKZBTs8s",
        "colab_type": "text"
      },
      "source": [
        "# Review Report on \"Generative Adversarial Nets\""
      ]
    },
    {
      "cell_type": "markdown",
      "metadata": {
        "id": "SYem8f1KTs8t",
        "colab_type": "text"
      },
      "source": [
        "This report is a review report on generative nets. In this reprot I will introduce the main challange and problem which generative adversarial nets mainly to solve and what is generative adversarial nets. In addition, I also will analysis the good point and weak point of this paper. In addition, The applicaion of generative adversarial nets is included in this report"
      ]
    },
    {
      "cell_type": "markdown",
      "metadata": {
        "id": "SpRJElGWTs8w",
        "colab_type": "text"
      },
      "source": [
        "## Content"
      ]
    },
    {
      "cell_type": "markdown",
      "metadata": {
        "id": "hU42InahTs8x",
        "colab_type": "text"
      },
      "source": [
        "The research is about generative adversarial nets, which is an new algorithm of deep learning. This paper has 7 parts which is introduction, related work, adversarial nets, theoretical results, experiments, advantages and disadvantages, conclusion and future work. In this section, I will briefly introduce the generative adversarial and main problem it want to solve.\n",
        "According to the paper, the task of deep learning is to discover rich and hierarchical models which can represent probability distributions over the kinds of data encountered in artificial intelligence applications(IanJ.Goodfellow 2014). Among those models discovered, the most successful models are discriminative models in deep learning. This successful models are based on backpropagation and dropout algorithms by use piecewise linear units.(IanJ.Goodfellow 2014) However, deep generative models has less impact, because the difficulty of using the benefits of piecewise linear units in generative context and estimating intractable probabilistic computations.(IanJ.Goodfellow 2014) In that case, Ian(2014) invent a new model called generative adversarial nets to solve those two problems. In the introduction part of this paper, Ian also briefly introduce the principle of generative adversarial nets. Generative adversarial nets aim to train two models at same time, one is used to generates samples which called generative model, the other one used to distinguish samples which called discriminative model. This nets do not need to use Markov chains or approximate inference, because it only use two backpropagation and dropout algorithms to train two models(IanJ.Goodfellow 2014).\n",
        "In the related work part of this paper, Ian(2014) introduce some models which used to train two models and some problem may happen during training. For adversarial nets part, Ian(2014) introduce the function of adversarial nets and the theory fully particular, Then Ian(2014) show experiment steps and results for theory In the theoretical results and experiments parts. Moreover, advantages and disadvantages of this nets also be mentioned in advantages and disadvantages. In the end, Ian(2014) make a conclusions and give future work of this nets.\n"
      ]
    },
    {
      "cell_type": "markdown",
      "metadata": {
        "id": "Yji8KNAWTs8z",
        "colab_type": "text"
      },
      "source": [
        "## Innovation"
      ]
    },
    {
      "cell_type": "markdown",
      "metadata": {
        "id": "lhhReLKqTs80",
        "colab_type": "text"
      },
      "source": [
        "The background at the time of the work is that the study about deep learning going to a outbreak period. Many models and algorithms are be invented. Among those algorithms and models, the most successful models are discriminative models. As I mentioned in content section, there are two problems are hard to solve. To solve those problems, Ian(2014) analysis many models like restricted Boltzmann machines, Deep belief networks, and deep Boltzmann machines. However, those models all will lead some serious problem when operation. For example, when using restricted Boltzmann machines and deep Boltzmann machines to alternate directed graphical models with latent variables to undirected graphical models with latent models by using the interactions of those models. However, the quantity and gradient are hard to deal(IanJ.Goodfellow 2014). If use Markov chain Monte Carlo methods to solve the problem about quantity and gradient, one significant problem will appear. For this situation, a creative idea is be invent by Ian(2014), which is generative adversarial nets by combine the advantages of different algorithms. Generative adversarial nets is an algorithm which can train two model at a same time. This model simplify the other generative model cause it is unnecessary to use Markov chains. In addition, it only need to train two models, which avoid the problem of generating huge intractable quantity and gradient(IanJ.Goodfellow 2014)."
      ]
    },
    {
      "cell_type": "markdown",
      "metadata": {
        "id": "uXpUxAL8Ts82",
        "colab_type": "text"
      },
      "source": [
        "## Technical quality"
      ]
    },
    {
      "cell_type": "markdown",
      "metadata": {
        "id": "AmWXJT6ETs84",
        "colab_type": "text"
      },
      "source": [
        "The technical development is high quality. To prove this algorithms, Ian first define a prior on input noise variables, then set a mapping to data space. Second multilayer perceptron is defended which outputs a single scalar. In the end, discriminative model was trained to let the probability of assigning the correct label to both training examples and samples which generated by generative model be max. At the same time, generative model is trained to minimize log(1 – D(G(z)))(IanJ.Goodfellow 2014). However, there are also some problem found when doing experiments. Actually, the function of discriminative model and generative model cannot provide enough gradient for generative model to learn well. At the early period of learning, discriminative model may decline samples cause the samples is significantly different from training date, when generative model is poor(IanJ.Goodfellow 2014). \n",
        "There are good quality is that theoretical results is detailed. Ian show global optimality and convergence of algorithm. However, poor quality is that Ian(2014) use a model which lack of theoretical guarantees in theoretical results parts of paper, Although, this model is a reasonable.\n"
      ]
    },
    {
      "cell_type": "markdown",
      "metadata": {
        "id": "-2RM-664Ts86",
        "colab_type": "text"
      },
      "source": [
        "## Application and X-factor"
      ]
    },
    {
      "cell_type": "markdown",
      "metadata": {
        "id": "6S8D_O7lTs88",
        "colab_type": "text"
      },
      "source": [
        "The application domain of generative adversarial nets mentioned in this paper is appropriate. In addition, there are also some other application domain it can used such as the manifold of natural images. Based on a paper written by Jun-Yan(2018) called generative visual manipulation on the natural image manifold. Jun-Yan(2018) use generative networks to generate huge amounts of natural looking image, because it can avoid discriminative confuse samples when generative model is poor. Then using generative adversarial nets to approximate the image manifold(Jun-Yan Zhu 2018). In addition, Jun-Yan(2018) indicate the reason of using generative adversarial networks. As Jun-Yan(2018) said, generative adversarial nets can produce high-quality samples. It can combine appealing samples with a plausible overall structure. Moreover, the Euclidean distance in the latent space often corresponds to a perceptually meaningful visual similarity(Jun-Yan Zhu 2018). There are also a interesting thing I found. According to Jun-Yan(2018), the picture generated by generative model may lack some details.( Jun-Yan Zhu 2018) In addition, there some disadvantage of generated adversarial nets like two models need to be trained at the same time, and the process of generative is out of control. In that case, improvement of generative adversarial nets appears which called conditional generative adversarial nets. As that name, this new algorithm add a condition to model aim to control the process of generation.( Mehdi Mirza 2014)"
      ]
    },
    {
      "cell_type": "markdown",
      "metadata": {
        "id": "TNxbhdDBTs89",
        "colab_type": "text"
      },
      "source": [
        "## Presentation"
      ]
    },
    {
      "cell_type": "markdown",
      "metadata": {
        "id": "yHMOw5kQTs8_",
        "colab_type": "text"
      },
      "source": [
        "The overall structure of this paper is clear. I found reading is easy. Especially the abstract part. It introduce the theory of generative adversarial nets briefly which give me a first impression about topic of this paper. Then the reason of inventing generative adversarial nets and main challenge it used to solve are indicated in introduction part. This give me a further impressing. The argument and presentation of this paper is deep and clear. especially in the advantage and disadvantages parts and experiments part. It not only point the weak part of this algorithm and show the challenge of generative model by using table."
      ]
    },
    {
      "cell_type": "markdown",
      "metadata": {
        "id": "EEoxcQ0tTs9A",
        "colab_type": "text"
      },
      "source": [
        "## References\n",
        "\n",
        "Ian J.G. Jean P.A., Mehdi M., Bing X., David W.F., Sherjil O., Aaron C., Yoshua B.(2014). Generative Adversarial Nets. arXiv preprint *arXiv: 1406.2661v1.*\n",
        "Mehdi M., Simon O.(2014) ConditionalGenerativeAdversarialNets. *arXiv preprint arXiv: 1411.1784v1*.\n",
        "Jun-Yan Z., Philipp K., Eli S., Alexei A. Efros(2018) Generative Visual Manipulation on the Natural Image Manifold arXiv preprint *arXiv: 1609.03552v3.*\n"
      ]
    }
  ]
}